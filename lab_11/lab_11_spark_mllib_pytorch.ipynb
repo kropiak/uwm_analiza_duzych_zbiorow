{
 "cells": [
  {
   "cell_type": "markdown",
   "id": "c06a21f2-76a0-4149-853f-70ddeb3f2df2",
   "metadata": {},
   "source": [
    "# Lab 11. Spark MLlib oraz PyTorch."
   ]
  },
  {
   "cell_type": "markdown",
   "id": "c2a28d3f-bfe9-4d36-8b20-2e502cd06642",
   "metadata": {},
   "source": [
    "W tym labie zaprezentowane zostaną przykładowe implementacje modelu Machine Learningowego głębokiej sieci neuronowej z wykorzystaniem biblioteki PyTorch. Najpierw zaprezentowany zostanie przykład bez wykorzystania PySpark, który można uruchomić na pojedynczej maszynie, a następnie przykład, który można skalować z wykorzystaniem klastra Spark.\n",
    "\n",
    "PyTorch to aktualnie jedna z najbardziej popularnych bibliotek deep learningu na rynku. PyTorch wywodzi się oryginalnie z biblioteki Torch, która powstała pod skrzydłami Meta AI i pierwsza jej wersja została publicznie udostępniona w roku 2016. W roku 2017 powstał port w języku Python w postaci biblioteki PyTorch, która stała się bardziej popularna od swojego przodka. \n",
    "\n",
    "We wrześniu 2022 roku ogłoszono powstanie PyTorch Foundation, która jest częścią większej fundacji - Linux Foundation.\n",
    "PyTorch jest wykorzystywany między innymi przez implementację transformerów (rodzaj sztucznej sieci nauronowej, która stoi za obecnym sukcesem modeli LLM w dziedzinie NLP) w bibliotece HuggingFace, w autopilocie firmy Tesla."
   ]
  },
  {
   "cell_type": "markdown",
   "id": "362025dd-c88d-4402-ad9c-e90c08804520",
   "metadata": {},
   "source": [
    "## 1. Przykład sieci neuronowej do klasyfikacji obrazów ze zbioru MNIST, bez wykorzystania Apache Spark"
   ]
  },
  {
   "cell_type": "code",
   "execution_count": null,
   "id": "dd8e3da8-a23e-4e2b-a49f-d85ff6ce0fae",
   "metadata": {},
   "outputs": [],
   "source": [
    "# wymagane zainstalowanie biblioteki pytorch - ten proces wymaga pobrania znacznej ilości danych\n",
    "# razem około 2GB\n",
    "!pip install torch torchvision torchaudio"
   ]
  },
  {
   "cell_type": "code",
   "execution_count": null,
   "id": "3f76efd9-3978-46f1-a269-88ab470cda9c",
   "metadata": {},
   "outputs": [],
   "source": [
    "# źródło i szczegółowe informacje o zbiorze danych MNIST\n",
    "https://yann.lecun.com/exdb/mnist/"
   ]
  },
  {
   "cell_type": "code",
   "execution_count": 1,
   "id": "9b14c850-ddf9-420c-83e4-b81814e2ca08",
   "metadata": {
    "execution": {
     "iopub.execute_input": "2025-01-08T12:58:26.434982Z",
     "iopub.status.busy": "2025-01-08T12:58:26.434224Z",
     "iopub.status.idle": "2025-01-08T12:58:58.970603Z",
     "shell.execute_reply": "2025-01-08T12:58:58.969777Z",
     "shell.execute_reply.started": "2025-01-08T12:58:26.434957Z"
    }
   },
   "outputs": [],
   "source": [
    "import argparse\n",
    "import torch\n",
    "import torch.nn as nn\n",
    "import torch.nn.functional as F\n",
    "import torch.optim as optim\n",
    "from torchvision import datasets, transforms\n",
    "from torch.optim.lr_scheduler import StepLR"
   ]
  },
  {
   "cell_type": "code",
   "execution_count": 3,
   "id": "57a7f881-ba17-47be-8f28-480930b4719b",
   "metadata": {
    "execution": {
     "iopub.execute_input": "2025-01-08T12:59:14.739886Z",
     "iopub.status.busy": "2025-01-08T12:59:14.739565Z",
     "iopub.status.idle": "2025-01-08T12:59:14.759233Z",
     "shell.execute_reply": "2025-01-08T12:59:14.758388Z",
     "shell.execute_reply.started": "2025-01-08T12:59:14.739865Z"
    }
   },
   "outputs": [],
   "source": [
    "class Net(nn.Module):\n",
    "    def __init__(self):\n",
    "        super(Net, self).__init__()\n",
    "        self.conv1 = nn.Conv2d(1, 32, 3, 1)\n",
    "        self.conv2 = nn.Conv2d(32, 64, 3, 1)\n",
    "        self.dropout1 = nn.Dropout(0.25)\n",
    "        self.dropout2 = nn.Dropout(0.5)\n",
    "        self.fc1 = nn.Linear(9216, 128)\n",
    "        self.fc2 = nn.Linear(128, 10)\n",
    "\n",
    "    def forward(self, x):\n",
    "        x = self.conv1(x)\n",
    "        x = F.relu(x)\n",
    "        x = self.conv2(x)\n",
    "        x = F.relu(x)\n",
    "        x = F.max_pool2d(x, 2)\n",
    "        x = self.dropout1(x)\n",
    "        x = torch.flatten(x, 1)\n",
    "        x = self.fc1(x)\n",
    "        x = F.relu(x)\n",
    "        x = self.dropout2(x)\n",
    "        x = self.fc2(x)\n",
    "        output = F.log_softmax(x, dim=1)\n",
    "        return output\n",
    "\n",
    "\n",
    "def train(args, model, device, train_loader, optimizer, epoch):\n",
    "    model.train()\n",
    "    for batch_idx, (data, target) in enumerate(train_loader):\n",
    "        data, target = data.to(device), target.to(device)\n",
    "        optimizer.zero_grad()\n",
    "        output = model(data)\n",
    "        loss = F.nll_loss(output, target)\n",
    "        loss.backward()\n",
    "        optimizer.step()\n",
    "        if batch_idx % args.log_interval == 0:\n",
    "            print('Train Epoch: {} [{}/{} ({:.0f}%)]\\tLoss: {:.6f}'.format(\n",
    "                epoch, batch_idx * len(data), len(train_loader.dataset),\n",
    "                100. * batch_idx / len(train_loader), loss.item()))\n",
    "            if args.dry_run:\n",
    "                break\n",
    "\n",
    "\n",
    "def test(model, device, test_loader):\n",
    "    model.eval()\n",
    "    test_loss = 0\n",
    "    correct = 0\n",
    "    with torch.no_grad():\n",
    "        for data, target in test_loader:\n",
    "            data, target = data.to(device), target.to(device)\n",
    "            output = model(data)\n",
    "            test_loss += F.nll_loss(output, target, reduction='sum').item()  # sum up batch loss\n",
    "            pred = output.argmax(dim=1, keepdim=True)  # get the index of the max log-probability\n",
    "            correct += pred.eq(target.view_as(pred)).sum().item()\n",
    "\n",
    "    test_loss /= len(test_loader.dataset)\n",
    "\n",
    "    print('\\nTest set: Average loss: {:.4f}, Accuracy: {}/{} ({:.0f}%)\\n'.format(\n",
    "        test_loss, correct, len(test_loader.dataset),\n",
    "        100. * correct / len(test_loader.dataset)))\n",
    "\n",
    "\n",
    "def main():\n",
    "    # Training settings\n",
    "    parser = argparse.ArgumentParser(description='PyTorch MNIST Example')\n",
    "    parser.add_argument('--batch-size', type=int, default=64, metavar='N',\n",
    "                        help='input batch size for training (default: 64)')\n",
    "    parser.add_argument('--test-batch-size', type=int, default=1000, metavar='N',\n",
    "                        help='input batch size for testing (default: 1000)')\n",
    "    parser.add_argument('--epochs', type=int, default=14, metavar='N',\n",
    "                        help='number of epochs to train (default: 14)')\n",
    "    parser.add_argument('--lr', type=float, default=1.0, metavar='LR',\n",
    "                        help='learning rate (default: 1.0)')\n",
    "    parser.add_argument('--gamma', type=float, default=0.7, metavar='M',\n",
    "                        help='Learning rate step gamma (default: 0.7)')\n",
    "    parser.add_argument('--no-cuda', action='store_true', default=False,\n",
    "                        help='disables CUDA training')\n",
    "    parser.add_argument('--no-mps', action='store_true', default=False,\n",
    "                        help='disables macOS GPU training')\n",
    "    parser.add_argument('--dry-run', action='store_true', default=False,\n",
    "                        help='quickly check a single pass')\n",
    "    parser.add_argument('--seed', type=int, default=1, metavar='S',\n",
    "                        help='random seed (default: 1)')\n",
    "    parser.add_argument('--log-interval', type=int, default=10, metavar='N',\n",
    "                        help='how many batches to wait before logging training status')\n",
    "    parser.add_argument('--save-model', action='store_true', default=False,\n",
    "                        help='For Saving the current Model')\n",
    "\n",
    "    # EDIT - aby zadziałało uruchamianie w Jupyter Notebooku niezbędne jest dodania jeszcze obsługi argumentu -f\n",
    "    parser.add_argument(\n",
    "        '-f',\n",
    "        '--file',\n",
    "        help='Path for input file. First line should contain number of lines to search in'\n",
    "    )\n",
    "\n",
    "    args = parser.parse_args()\n",
    "    use_cuda = not args.no_cuda and torch.cuda.is_available()\n",
    "    use_mps = not args.no_mps and torch.backends.mps.is_available()\n",
    "\n",
    "    torch.manual_seed(args.seed)\n",
    "\n",
    "    if use_cuda:\n",
    "        device = torch.device(\"cuda\")\n",
    "        print('Device: CUDA GPU')\n",
    "    elif use_mps:\n",
    "        device = torch.device(\"mps\")\n",
    "        print('Device: MPS')\n",
    "    else:\n",
    "        device = torch.device(\"cpu\")\n",
    "        print('Device: CPU')\n",
    "\n",
    "    train_kwargs = {'batch_size': args.batch_size}\n",
    "    test_kwargs = {'batch_size': args.test_batch_size}\n",
    "    if use_cuda:\n",
    "        cuda_kwargs = {'num_workers': 1,\n",
    "                       'pin_memory': True,\n",
    "                       'shuffle': True}\n",
    "        train_kwargs.update(cuda_kwargs)\n",
    "        test_kwargs.update(cuda_kwargs)\n",
    "\n",
    "    transform=transforms.Compose([\n",
    "        transforms.ToTensor(),\n",
    "        transforms.Normalize((0.1307,), (0.3081,))\n",
    "        ])\n",
    "    dataset1 = datasets.MNIST('./data', train=True, download=True,\n",
    "                       transform=transform)\n",
    "    dataset2 = datasets.MNIST('./data', train=False,\n",
    "                       transform=transform)\n",
    "    train_loader = torch.utils.data.DataLoader(dataset1,**train_kwargs)\n",
    "    test_loader = torch.utils.data.DataLoader(dataset2, **test_kwargs)\n",
    "\n",
    "    model = Net().to(device)\n",
    "    optimizer = optim.Adadelta(model.parameters(), lr=args.lr)\n",
    "\n",
    "    scheduler = StepLR(optimizer, step_size=1, gamma=args.gamma)\n",
    "    for epoch in range(1, args.epochs + 1):\n",
    "        train(args, model, device, train_loader, optimizer, epoch)\n",
    "        test(model, device, test_loader)\n",
    "        scheduler.step()\n",
    "\n",
    "    if args.save_model:\n",
    "        torch.save(model.state_dict(), \"mnist_cnn_2.pt\")\n",
    "\n",
    "\n",
    "if __name__ == '__main__':\n",
    "    # main()\n",
    "    pass"
   ]
  },
  {
   "cell_type": "code",
   "execution_count": null,
   "id": "15dcbf92-19df-437b-a63f-d3fe791b00cb",
   "metadata": {},
   "outputs": [],
   "source": [
    "# powyższy kod został również zapisany w oddzielnym pliku, co ułatwia jego uruchamianie z innymi niż domyślne wartościami parametrów\n",
    "# uruchomienie z poziomu linii komend, wywołanie z argumentem --save-model, które zapisuje wytrenowany model do pliku\n",
    "!python mnist_pytorch.py --save-model"
   ]
  },
  {
   "cell_type": "code",
   "execution_count": null,
   "id": "f8de344c-19a5-4b05-8c7f-d0bca0a1667a",
   "metadata": {},
   "outputs": [],
   "source": [
    "# instalacja paczek na potrzeby wizualizacji danych datasetu MNIST pobranych w poprzednim przykładzie\n",
    "!pip install numpy idx2numpy matplotlib"
   ]
  },
  {
   "cell_type": "code",
   "execution_count": 5,
   "id": "dcb5df59-9b29-471f-8f85-6ffd8e2de03a",
   "metadata": {
    "execution": {
     "iopub.execute_input": "2025-01-05T21:31:04.601357Z",
     "iopub.status.busy": "2025-01-05T21:31:04.600957Z",
     "iopub.status.idle": "2025-01-05T21:31:08.476831Z",
     "shell.execute_reply": "2025-01-05T21:31:08.476109Z",
     "shell.execute_reply.started": "2025-01-05T21:31:04.601336Z"
    }
   },
   "outputs": [
    {
     "data": {
      "image/png": "[encoded data removed]",
      "text/plain": [
       "<Figure size 640x480 with 1 Axes>"
      ]
     },
     "metadata": {},
     "output_type": "display_data"
    }
   ],
   "source": [
    "import numpy as np\n",
    "import idx2numpy\n",
    "import matplotlib.pyplot as plt\n",
    "\n",
    "# ścieżka powinna być poprawna jeżeli nie dokonano modyfikacji przykładu powyżej\n",
    "imagefile = './data/MNIST/raw/t10k-images-idx3-ubyte'\n",
    "imagearray = idx2numpy.convert_from_file(imagefile)\n",
    "\n",
    "# wizualizacja jednego obrazu (z tablicy numpy, dane do modelu podawane są w formie numerycznej)\n",
    "plt.imshow(imagearray[4], cmap=plt.cm.binary);"
   ]
  },
  {
   "cell_type": "markdown",
   "id": "4cd3c79e-e60d-46de-882d-97fb56387717",
   "metadata": {},
   "source": [
    "**Inferencja z wcześniej wytrenowanego i zapisanego modelu PyTorch**"
   ]
  },
  {
   "cell_type": "code",
   "execution_count": 6,
   "id": "4dbe059d-20d4-4788-9e1c-13bb31bc6ce1",
   "metadata": {
    "execution": {
     "iopub.execute_input": "2025-01-05T21:31:08.479066Z",
     "iopub.status.busy": "2025-01-05T21:31:08.478627Z",
     "iopub.status.idle": "2025-01-05T21:31:08.783477Z",
     "shell.execute_reply": "2025-01-05T21:31:08.782645Z",
     "shell.execute_reply.started": "2025-01-05T21:31:08.479041Z"
    }
   },
   "outputs": [
    {
     "data": {
      "text/plain": [
       "Net(\n",
       "  (conv1): Conv2d(1, 32, kernel_size=(3, 3), stride=(1, 1))\n",
       "  (conv2): Conv2d(32, 64, kernel_size=(3, 3), stride=(1, 1))\n",
       "  (dropout1): Dropout(p=0.25, inplace=False)\n",
       "  (dropout2): Dropout(p=0.5, inplace=False)\n",
       "  (fc1): Linear(in_features=9216, out_features=128, bias=True)\n",
       "  (fc2): Linear(in_features=128, out_features=10, bias=True)\n",
       ")"
      ]
     },
     "execution_count": 6,
     "metadata": {},
     "output_type": "execute_result"
    }
   ],
   "source": [
    "# inicjalizacja klasy modelu\n",
    "model = Net()\n",
    "# ładowanie wag modelu z pliku\n",
    "model.load_state_dict(torch.load(\"mnist_cnn.pt\", weights_only=True))\n",
    "# ustawienie modelu w tryb ewaluacji (predykcji)\n",
    "model.eval()"
   ]
  },
  {
   "cell_type": "code",
   "execution_count": null,
   "id": "066f164e-cd58-4701-be89-327843e8e89d",
   "metadata": {},
   "outputs": [],
   "source": [
    "# ustawiamy ile obrazów będzie ładowanych do tensora przy pojedynczej iteracji test loadera\n",
    "batch_size = 8\n",
    "\n",
    "transform = transforms.Compose([\n",
    "            transforms.ToTensor(),\n",
    "            transforms.Normalize((0.1307,), (0.3081,))\n",
    "            ])\n",
    "test_kwargs = {'batch_size': batch_size}\n",
    "\n",
    "# inicjalizacja zbioru jak w skrypcie głównym\n",
    "dataset2 = datasets.MNIST('./data', train=False, transform=transform)\n",
    "\n",
    "# inicjalizacja data loadera tak jak w głównej pętli\n",
    "test_loader = torch.utils.data.DataLoader(dataset2, **test_kwargs)"
   ]
  },
  {
   "cell_type": "code",
   "execution_count": 21,
   "id": "1afead0d-3cf0-4986-b525-4a0e1fedd71b",
   "metadata": {
    "execution": {
     "iopub.execute_input": "2025-01-06T10:51:33.763249Z",
     "iopub.status.busy": "2025-01-06T10:51:33.762665Z",
     "iopub.status.idle": "2025-01-06T10:51:36.424670Z",
     "shell.execute_reply": "2025-01-06T10:51:36.423753Z",
     "shell.execute_reply.started": "2025-01-06T10:51:33.763208Z"
    }
   },
   "outputs": [
    {
     "data": {
      "text/plain": [
       "<Figure size 640x480 with 0 Axes>"
      ]
     },
     "metadata": {},
     "output_type": "display_data"
    },
    {
     "data": {
      "image/png": "[encoded data removed]",
      "text/plain": [
       "<Figure size 640x480 with 8 Axes>"
      ]
     },
     "metadata": {},
     "output_type": "display_data"
    },
    {
     "name": "stdout",
     "output_type": "stream",
     "text": [
      "target: tensor([7, 2, 1, 0, 4, 1, 4, 9])\n",
      "Prediction: tensor([7, 2, 1, 0, 4, 1, 4, 9])\n"
     ]
    },
    {
     "data": {
      "text/plain": [
       "<Figure size 640x480 with 0 Axes>"
      ]
     },
     "metadata": {},
     "output_type": "display_data"
    },
    {
     "data": {
      "image/png": "[encoded data removed]",
      "text/plain": [
       "<Figure size 640x480 with 8 Axes>"
      ]
     },
     "metadata": {},
     "output_type": "display_data"
    },
    {
     "name": "stdout",
     "output_type": "stream",
     "text": [
      "target: tensor([5, 9, 0, 6, 9, 0, 1, 5])\n",
      "Prediction: tensor([5, 9, 0, 6, 9, 0, 1, 5])\n"
     ]
    },
    {
     "data": {
      "text/plain": [
       "<Figure size 640x480 with 0 Axes>"
      ]
     },
     "metadata": {},
     "output_type": "display_data"
    },
    {
     "data": {
      "image/png": "[encoded data removed]",
      "text/plain": [
       "<Figure size 640x480 with 8 Axes>"
      ]
     },
     "metadata": {},
     "output_type": "display_data"
    },
    {
     "name": "stdout",
     "output_type": "stream",
     "text": [
      "target: tensor([9, 7, 3, 4, 9, 6, 6, 5])\n",
      "Prediction: tensor([9, 7, 3, 4, 9, 6, 6, 5])\n"
     ]
    },
    {
     "data": {
      "text/plain": [
       "<Figure size 640x480 with 0 Axes>"
      ]
     },
     "metadata": {},
     "output_type": "display_data"
    },
    {
     "data": {
      "image/png": "[encoded data removed]",
      "text/plain": [
       "<Figure size 640x480 with 8 Axes>"
      ]
     },
     "metadata": {},
     "output_type": "display_data"
    },
    {
     "name": "stdout",
     "output_type": "stream",
     "text": [
      "target: tensor([4, 0, 7, 4, 0, 1, 3, 1])\n",
      "Prediction: tensor([4, 0, 7, 4, 0, 1, 3, 1])\n"
     ]
    },
    {
     "data": {
      "text/plain": [
       "<Figure size 640x480 with 0 Axes>"
      ]
     },
     "metadata": {},
     "output_type": "display_data"
    },
    {
     "data": {
      "image/png": "[encoded data removed]",
      "text/plain": [
       "<Figure size 640x480 with 8 Axes>"
      ]
     },
     "metadata": {},
     "output_type": "display_data"
    },
    {
     "name": "stdout",
     "output_type": "stream",
     "text": [
      "target: tensor([3, 4, 7, 2, 7, 1, 2, 1])\n",
      "Prediction: tensor([3, 4, 7, 2, 7, 1, 2, 1])\n"
     ]
    }
   ],
   "source": [
    "# ustalenie ile iteracji ładowania danych z data loadera obsłuży poniższa pętla\n",
    "# cały zbiór testowy zawiera 10k obrazów, więc nie chcemy ich tutaj wczystkich wyświetlać\n",
    "# co na pewno zawiesiłoby przeglądarkę\n",
    "batches = 5 # ostrożnie!\n",
    "start = 0\n",
    "\n",
    "for data, target in test_loader:\n",
    "    plt.figure()\n",
    "    f, axarr = plt.subplots(1, batch_size)\n",
    "    for idx, img in enumerate(data):\n",
    "        axarr[idx].imshow(img.squeeze(), interpolation='nearest')\n",
    "    plt.show()\n",
    "    print(f\"target: {target}\")\n",
    "    with torch.no_grad():\n",
    "        output = model(data)\n",
    "        _, predicted_classes = torch.max(output, 1)\n",
    "        print(f\"Predykcja: {predicted_classes}\")\n",
    "    start += 1\n",
    "    if start == batches:\n",
    "        break"
   ]
  },
  {
   "cell_type": "markdown",
   "id": "7e408a0b-4e0d-46c8-b007-96f433845550",
   "metadata": {},
   "source": [
    "## Zadania\n",
    "\n",
    "Rozwiązania odsyłamy w postaci zmodyfikowanej wersji tego notebooka (usuwamy cały pkt 2) z zaznaczeniem tam gdzie trzeba, którego zadania dotyczy wybrany jego fragment.\n",
    "\n",
    "**Zadanie 1**  \n",
    "Zainstaluj pakiet torch tak jak przedstawiono na pierwszych listingach jeżeli korzystasz z rozwiązania bazującego na przedstawionym wcześniej środowisku z wykorzystanie linuksowego kontenera dockerowego. Jeżeli nie, to sprawdź na stronie https://pytorch.org/get-started/locally/ jakie polecenie powinieneś/-aś wykonać w zależności od platformy.\n",
    "\n",
    "**Zadanie 2**  \n",
    "Uruchom przykład treningu sieci na zbiorze MNIST przedstawiony w przykładach.\n",
    "\n",
    "**Zadanie 3**  \n",
    "Jeżeli trening uruchamia się poprawnie wykonaj trening sieci raz jeszcze, ale teraz zapisz wagi wytrenowanego modelu do pliku (patrz przykład w materiałach).\n",
    "\n",
    "**Zadanie 4**  \n",
    "Korzystając z przykładów przedstawionych w tym notebooku zainicjalizuj klasę modelu wczytując wagi z zapisanego wcześniej pliku. Przeprowadź ewaluację 8 wsadów po 8 obrazów każdy ze zbioru testowego bzując na przykładach.\n",
    "\n",
    "**Zadanie 5**  \n",
    "Znajdź indeksy wszystkich niepoprawnie klasyfikowanych obrazów ze zbioru testowego i wyświetl 10 z tych obrazów wraz z informacjami jaka jest ich etykieta, a jaka predykcja.\n",
    "\n",
    "**zadanie 6**  \n",
    "> **OPCJONALNE!!!**\n",
    "\n",
    "Jeżeli dysponujesz kartą graficzną z procesorami CUDA to utwórz kopię mechanizmu trenowania sieci zmieniając parametry tak, aby trening odbywał się z wykorzystaniem tej karty (tutaj konieczne będzie zainstalowanie Nvidia CUDA Toolkit oraz możliwe, że przeinstalowanie pakietu torch również. Patrz też tu:https://pytorch.org/get-started/locally/ \n"
   ]
  },
  {
   "cell_type": "markdown",
   "id": "19bd5d72-e997-4014-972e-79b90fb14c57",
   "metadata": {},
   "source": [
    "# UWAGA! Poniższe listingi nie są aktualnie możliwe do poprawnego uruchomienia na konfiguracji, którą aktualnie posiadamy na zajęciach. Proszę to potraktować jako przykładowy workflow przy definiowaniu rozproszonych modeli z wykorzystaniem biblioteki PyTorch oraz PySpark.\n",
    "\n",
    "## 2. Współbieżne dane oraz współbieżne modele."
   ]
  },
  {
   "cell_type": "markdown",
   "id": "a2c42619-e07b-41c8-94a0-5bb4f34b3d57",
   "metadata": {},
   "source": [
    "Rozważając mechanizmy rozproszonego, współbieżnego ML rozróżniamy dwa główne podejścia:\n",
    "* **współbieżność danych**,\n",
    "* **współbieżność modelu**.\n",
    "\n",
    "Istnieje jeszcze wiele pomniejszych rozwiązań, np. tzw współbieżność ekspertów (źródło: https://arxiv.org/pdf/2101.03961), a w praktyce dla największych modeli często wykorzystuje się mieszankę rozwiązań opartych o współbieżność danych oraz modeli. \n",
    "\n",
    "**Współbieżność danych** polega na podzieleniu danych na określoną liczbę części (nazywanych często w literaturze anglojęzycznej odłamkami, ang. data shards) i uruchomieniu tej samej logiki (modelu) na wielu węzłach, a następnie złączenie wyników. Jest to podejście najbardziej popularne i dużo łatwiejsze do zaimplementowania. Wykorzystywaliśmy je do tej pory w wielu przykładach poczynając od przykładów z wykorzystaniem multiprocessingu, poprzez bibliotekę Dask, a na Sparku kończąc jednak nie dla zadań związanych z Machine Learningiem.\n",
    "\n",
    "Mamy więc do czynienia z wieloma instancjami tego samego modelu uruchamianego na wielu różnych fragmentach zbioru danych. Takie podejście można rozpisać na kolejne kroki:\n",
    "\n",
    "1. Tworzenie kopii modelu i jego dystrybucja na każdy węzeł.\n",
    "2. Podzielenie danych i ich dystrybucja na każde urządzenie (urządzenie może składać się więcej niż 1 workera, więc dane mogą być współdzielone między nimi).\n",
    "3. Złączanie wyników w procesie propagacji wstecznej.\n",
    "\n",
    "Możemy zauważyć, że krok 1 jest wykonywany raz na cały proces treningu modelu, ale kolejne kroki odbywają się już raz na iterację (pamiętajmy, że iteracja wykonywana jest na jednym wsadzie danych).\n",
    "\n",
    "Biblioteka PyTorch dostarcza kilku modułów do tworzenia rozwiązań współnieżności danych i modeli:\n",
    "* **DataParallel (DP)** - współnieżność danych, ale tylko na jednej maszynie,\n",
    "* **Distributed Data Parallel (DDP)** - współbieżność danych na jednej lub wielu maszynach,\n",
    "* **FullyShardedDataParallel (FSDP)** - współbieżność danych oraz modeli.\n",
    "\n",
    "Te rozwiązania za pomocą modułu `torch.distributed` synchronizuje gradienty oraz bufory (czym jest bufor patrz [tu](https://pytorch.org/docs/stable/generated/torch.nn.parameter.Buffer.html) oraz [tu](https://discuss.pytorch.org/t/what-pytorch-means-by-buffers/120266)) pomiędzy procesami, które są wykorzystywane do aktualizacji modelu.\n",
    "\n",
    "> Dokumentacja:\n",
    ">\n",
    "> **Pytorch Distributed API**: https://pytorch.org/tutorials/beginner/dist_overview.html#parallelism-apis\n",
    "> \n",
    "> **Distributed Data Parallel tutorial**: https://pytorch.org/tutorials/intermediate/ddp_tutorial.html  \n",
    "> **Distributed Data Parallel API klasy**: https://pytorch.org/docs/stable/generated/torch.nn.parallel.DistributedDataParallel.html#torch.nn.parallel.DistributedDataParallel  \n",
    "> **FSDP Tutorial**: https://pytorch.org/tutorials/intermediate/FSDP_tutorial.html\n",
    "\n",
    "\n",
    "**Współbieżne modele** to z kolei rozwiązanie, które jest wykorzystywane w sytuacji, w której na pojedynczym urządzeniu nie jest możliwe przechowanie i trenowanie całego modelu i wtedy potrzebny jest mechanizm podzielenia modelu między wiele węzłów i jego trenowanie we fragmentach. Oznacza to, że różne części grafu obliczeń modelu są uruchamiane na różnych urządzeniach, a wyniki treningu muszą być również odpowiednio transferowane między węzłami obliczeniowymi. Biorąc pod uwagę stopień skomplikowania zadania uczenia modelu głębokiej sieci neuronowej efektywne trenowanie takiego modelu jest wyzwaniem, ale w dobie modeli o skali modeli LLM rozwiązaniem koniecznym.\n",
    "\n",
    "Do materiałów został dodany plik o nazwie **FSDP_mnist.py** pochodzący z oficjalnej dokumentacji biblioteki PyTorch, który jest przykładem wykorzystania mechanizmu FSDP pod kątem trenowania modelu na wielu kartach GPU, których niestety w chwili realizacji labu nie mamy do dyspozycji. Należy więc ten przykładowy kod potraktować jako lekcję teoretyczną."
   ]
  },
  {
   "cell_type": "code",
   "execution_count": 18,
   "id": "db8990e4-9699-4ac5-ba8f-e92fa1090448",
   "metadata": {
    "execution": {
     "iopub.execute_input": "2025-01-08T07:55:54.186036Z",
     "iopub.status.busy": "2025-01-08T07:55:54.185739Z",
     "iopub.status.idle": "2025-01-08T07:55:54.204699Z",
     "shell.execute_reply": "2025-01-08T07:55:54.203332Z",
     "shell.execute_reply.started": "2025-01-08T07:55:54.185966Z"
    }
   },
   "outputs": [],
   "source": [
    "# tutaj przykładowy kod modelu PyTorch z DDP\n",
    "import torch.multiprocessing as mp\n",
    "\n",
    "# inicjalizacja parametrów\n",
    "BATCH_SIZE = 64\n",
    "NUM_EPOCHS = 10\n",
    "NUM_EXECUTERS = 1\n",
    "LEARNING_RATE = 0.001\n",
    "RANDOM_SEED_DEFAULT = 0\n",
    "\n",
    "# definicja modelu\n",
    "class Net(nn.Module):\n",
    "    def __init__(self):\n",
    "        super(Net, self).__init__()\n",
    "        self.conv1 = nn.Conv2d(1, 32, 3, 1)\n",
    "        self.conv2 = nn.Conv2d(32, 64, 3, 1)\n",
    "        self.dropout1 = nn.Dropout(0.25)\n",
    "        self.dropout2 = nn.Dropout(0.5)\n",
    "        self.fc1 = nn.Linear(9216, 128)\n",
    "        self.fc2 = nn.Linear(128, 10)\n",
    "\n",
    "    def forward(self, x):\n",
    "        x = self.conv1(x)\n",
    "        x = F.relu(x)\n",
    "        x = self.conv2(x)\n",
    "        x = F.relu(x)\n",
    "        x = F.max_pool2d(x, 2)\n",
    "        x = self.dropout1(x)\n",
    "        x = torch.flatten(x, 1)\n",
    "        x = self.fc1(x)\n",
    "        x = F.relu(x)\n",
    "        x = self.dropout2(x)\n",
    "        x = self.fc2(x)\n",
    "        output = F.log_softmax(x, dim=1)\n",
    "        return output\n",
    "\n",
    "\n",
    "# w przypadku treningu rozproszonego w PyTorch należy zainicjować wartość ziarna po to, aby\n",
    "# uniknąć jego inicjalizacji na każdym węźle z osobna, co może negatywnie wpłynąć na stabilność całego procesu\n",
    "def set_random_seeds(random_seed=0):\n",
    "    torch.manual_seed(random_seed)\n",
    "    torch.backends.cudnn.deterministic = True\n",
    "    torch.backends.cudnn.benchmark = False\n",
    "    np.random.seed(random_seed)\n",
    "    random.seed(random_seed)\n",
    "\n",
    "\n",
    "# setup inicjalizujący moduł torch.distributed ze wskazaniem backendu, tutal backend gloo\n",
    "# ale mamy do wyboru jeszcze inne, np. nccl\n",
    "def setup(rank, world_size, use_gpu=False):\n",
    "    os.environ['MASTER_ADDR'] = 'localhost'\n",
    "    os.environ['MASTER_PORT'] = '12355'\n",
    "\n",
    "    # inicjalizacja backendu\n",
    "    backend = \"nccl\" if use_gpu else \"gloo\"\n",
    "    dist.init_process_group(backend, rank=rank, world_size=world_size)\n",
    "\n",
    "\n",
    "# czyszczenie procesów po zakończeniu etapu uczenia\n",
    "def cleanup():\n",
    "    dist.destroy_process_group()\n",
    "\n",
    "\n",
    "# funkcja do treningu, zmodyfikowana w kilku miejscach względem pierwotnej wersji\n",
    "def train(args, model, rank, world_size, train_loader, optimizer, epoch):\n",
    "    model.train()\n",
    "    ddp_loss = torch.zeros(2).to(rank)\n",
    "    \n",
    "    for batch_idx, (data, target) in enumerate(train_loader):\n",
    "        data, target = data.to(rank), target.to(rank)\n",
    "        optimizer.zero_grad()\n",
    "        output = model(data)\n",
    "        loss = F.nll_loss(output, target, reduction='sum')\n",
    "        loss.backward()\n",
    "        optimizer.step()\n",
    "        ddp_loss[0] += loss.item()\n",
    "        ddp_loss[1] += len(data)\n",
    "        dist.all_reduce(ddp_loss, op=dist.ReduceOp.SUM)\n",
    "        if rank == 0:\n",
    "            print('Train Epoch: {} \\tLoss: {:.6f}'.format(epoch, ddp_loss[0] / ddp_loss[1]))\n",
    "\n",
    "\n",
    "def run_dist_training(rank, world_size):\n",
    "    print(f\"Running basic DDP example on rank {rank}.\")\n",
    "    setup(rank, world_size)\n",
    "\n",
    "    # create model and move it to GPU with id rank\n",
    "    model = Net().to(rank)\n",
    "    ddp_model = DDP(model, device_ids=[rank])\n",
    "\n",
    "    loss_fn = nn.MSELoss()\n",
    "    # optimizer = optim.SGD(ddp_model.parameters(), lr=0.001)\n",
    "\n",
    "    optimizer.zero_grad()\n",
    "    outputs = ddp_model(torch.randn(20, 10))\n",
    "    labels = torch.randn(20, 5).to(rank)\n",
    "    loss_fn(outputs, labels).backward()\n",
    "    optimizer.step()\n",
    "\n",
    "    cleanup()\n",
    "    print(f\"Finished running basic DDP example on rank {rank}.\")"
   ]
  },
  {
   "cell_type": "code",
   "execution_count": null,
   "id": "845b4af0-6e1d-4e9f-b108-cb9c9c1b9597",
   "metadata": {},
   "outputs": [],
   "source": [
    "WORLD_SIZE = 2\n",
    "\n",
    "mp.spawn(run_dist_training,\n",
    "        args=(WORLD_SIZE, args),\n",
    "        nprocs=WORLD_SIZE,\n",
    "        join=True)"
   ]
  },
  {
   "cell_type": "markdown",
   "id": "f98c3ac7-bc6a-454a-8128-52bc9d45c790",
   "metadata": {},
   "source": [
    "### Spark oraz PyTorch"
   ]
  },
  {
   "cell_type": "markdown",
   "id": "a5cf27c8-028c-45c7-a26b-e905fc268b51",
   "metadata": {},
   "source": [
    "Biblioteka Spark MLlib dostarcza interfejs do rozproszonego trenowania modelu opartego o bibliotekę PyTorch oraz PyTorch Lightning w API PySpark.\n",
    "\n",
    "Całość odbywa się pooprzez klasę **TorchDistributor** dostępną w API PySpark:\n",
    "https://spark.apache.org/docs/latest/api/python/reference/api/pyspark.ml.torch.distributor.TorchDistributor.html\n",
    "\n"
   ]
  },
  {
   "cell_type": "code",
   "execution_count": null,
   "id": "f54b87b8-8210-40b6-8548-c7186837164d",
   "metadata": {},
   "outputs": [],
   "source": [
    "import findspark\n",
    "from pyspark.sql import SparkSession\n",
    "\n",
    "findspark.init()\n",
    "spark = SparkSession\\\n",
    "        .builder\\\n",
    "        .master(\"local[2]\")\\\n",
    "        .appName(\"Spark MLlib and PyTorch\")\\\n",
    "        .getOrCreate()\n",
    "spark.sparkContext"
   ]
  },
  {
   "cell_type": "code",
   "execution_count": 28,
   "id": "2d0d1e05-e2db-4b99-9662-fa6ac76b38d6",
   "metadata": {
    "execution": {
     "iopub.execute_input": "2025-01-08T11:49:08.455342Z",
     "iopub.status.busy": "2025-01-08T11:49:08.455091Z",
     "iopub.status.idle": "2025-01-08T11:49:08.475177Z",
     "shell.execute_reply": "2025-01-08T11:49:08.473446Z",
     "shell.execute_reply.started": "2025-01-08T11:49:08.455323Z"
    }
   },
   "outputs": [],
   "source": [
    "# przebudowany przykład treningu sieci z lokalnego treningu\n",
    "import os\n",
    "import argparse\n",
    "import torch\n",
    "import torch.nn as nn\n",
    "import torch.nn.functional as F\n",
    "import torch.optim as optim\n",
    "from torchvision import datasets, transforms\n",
    "from torch.optim.lr_scheduler import StepLR\n",
    "\n",
    "\n",
    "class Net(nn.Module):\n",
    "    def __init__(self):\n",
    "        super(Net, self).__init__()\n",
    "        self.conv1 = nn.Conv2d(1, 32, 3, 1)\n",
    "        self.conv2 = nn.Conv2d(32, 64, 3, 1)\n",
    "        self.dropout1 = nn.Dropout(0.25)\n",
    "        self.dropout2 = nn.Dropout(0.5)\n",
    "        self.fc1 = nn.Linear(9216, 128)\n",
    "        self.fc2 = nn.Linear(128, 10)\n",
    "\n",
    "    def forward(self, x):\n",
    "        x = self.conv1(x)\n",
    "        x = F.relu(x)\n",
    "        x = self.conv2(x)\n",
    "        x = F.relu(x)\n",
    "        x = F.max_pool2d(x, 2)\n",
    "        x = self.dropout1(x)\n",
    "        x = torch.flatten(x, 1)\n",
    "        x = self.fc1(x)\n",
    "        x = F.relu(x)\n",
    "        x = self.dropout2(x)\n",
    "        x = self.fc2(x)\n",
    "        output = F.log_softmax(x, dim=1)\n",
    "        return output\n",
    "\n",
    "\n",
    "def main_train(batch_size=64, num_epochs=10):\n",
    "    #### importy powinny być dodane w głównej funkcji trenującej jeżeli chcemy ją przekazać\n",
    "    #### później do TorchDistributor\n",
    "    \n",
    "    import torch.distributed as dist\n",
    "    import torch.nn as nn\n",
    "    from torch.nn.parallel import DistributedDataParallel as DDP\n",
    "    from torch.utils.data.distributed import DistributedSampler\n",
    "    \n",
    "    # inicjalizacja backendu\n",
    "    print(\"Running distributed training\")\n",
    "    # dist.init_process_group(\"nccl\")\n",
    "    dist.init_process_group(\"gloo\")\n",
    "\n",
    "    local_rank = int(os.environ[\"LOCAL_RANK\"])\n",
    "    global_rank = int(os.environ[\"RANK\"])\n",
    "\n",
    "    # definicja zbiorów danych\n",
    "    transform = transforms.Compose([transforms.ToTensor(), transforms.Normalize((0.1307,), (0.3081,))])\n",
    "    train_dataset = datasets.MNIST('./data', train=True, download=True, transform=transform)\n",
    "    \n",
    "    # dodajmy rozproszony data loader\n",
    "    train_sampler = DistributedSampler(dataset=train_dataset)\n",
    "    data_loader = torch.utils.data.DataLoader(train_dataset, batch_size=batch_size, sampler=train_sampler)\n",
    "\n",
    "    # inicjalizacja modelu\n",
    "    model = Net().to(local_rank)\n",
    "    # opakowanie w model rozproszony\n",
    "    ddp_model = DDP(model, device_ids=[local_rank], output_device=local_rank)\n",
    "\n",
    "    # tutaj zmienimy klasę optymalizatora z Adadelta na SGD\n",
    "    optimizer = optim.SGD(ddp_model.parameters(), lr=learning_rate, momentum=momentum)\n",
    "    # główna pętla treningu modelu\n",
    "    for epoch in range(1, num_epochs + 1):\n",
    "        train(ddp_model, local_rank, data_loader, optimizer, epoch)\n",
    "\n",
    "    # testowanie\n",
    "    if global_rank == 0:\n",
    "    \n",
    "        ddp_model.eval()\n",
    "        \n",
    "        test_dataset = datasets.MNIST('./data', train=False, transform=transform)\n",
    "        test_data_loader = torch.utils.data.DataLoader(test_dataset)    \n",
    "    \n",
    "        test_loss = 0\n",
    "        for data, target in test_data_loader:\n",
    "            device = torch.device('cpu')\n",
    "            data, target = data.to(device), target.to(device)\n",
    "            output = ddp_model(data)\n",
    "            test_loss += F.nll_loss(output, target)\n",
    "              \n",
    "        test_loss /= len(data_loader.dataset)\n",
    "        print(\"Average test loss: {}\".format(test_loss.item()))\n",
    "    \n",
    "    # zwolnienie zasobów uczenia rozproszonego\n",
    "    dist.destroy_process_group()\n"
   ]
  },
  {
   "cell_type": "code",
   "execution_count": null,
   "id": "34928860-cc43-462a-a4a7-a116bdada186",
   "metadata": {},
   "outputs": [
    {
     "name": "stderr",
     "output_type": "stream",
     "text": [
      "25/01/08 12:16:15 WARN HeartbeatReceiver: Removing executor driver with no recent heartbeats: 316403 ms exceeds timeout 120000 ms\n",
      "25/01/08 12:16:15 WARN SparkContext: Killing executors is not supported by current scheduler.\n"
     ]
    }
   ],
   "source": [
    "from pyspark.ml.torch.distributor import TorchDistributor\n",
    "\n",
    "# kwargs = {\"batch_size\": 64, \"num_epochs\": 10}\n",
    "distributor = TorchDistributor(num_processes=2, local_mode=True, use_gpu=False)\n",
    "distributor.run(main_train)"
   ]
  },
  {
   "cell_type": "code",
   "execution_count": 26,
   "id": "fefd7201-91e4-45ec-8382-cf8a525f772a",
   "metadata": {
    "execution": {
     "iopub.execute_input": "2025-01-08T11:48:54.314511Z",
     "iopub.status.busy": "2025-01-08T11:48:54.313810Z",
     "iopub.status.idle": "2025-01-08T11:48:54.542888Z",
     "shell.execute_reply": "2025-01-08T11:48:54.541802Z",
     "shell.execute_reply.started": "2025-01-08T11:48:54.314490Z"
    }
   },
   "outputs": [],
   "source": [
    "spark.stop()"
   ]
  }
 ],
 "metadata": {
  "kernelspec": {
   "display_name": "Python 3 (ipykernel)",
   "language": "python",
   "name": "python3"
  },
  "language_info": {
   "codemirror_mode": {
    "name": "ipython",
    "version": 3
   },
   "file_extension": ".py",
   "mimetype": "text/x-python",
   "name": "python",
   "nbconvert_exporter": "python",
   "pygments_lexer": "ipython3",
   "version": "3.10.12"
  }
 },
 "nbformat": 4,
 "nbformat_minor": 5
}
