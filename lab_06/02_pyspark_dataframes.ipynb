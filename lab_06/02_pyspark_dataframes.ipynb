{
 "cells": [
  {
   "cell_type": "markdown",
   "id": "b4178d9f-a2a4-450d-93a1-42e5fe273e82",
   "metadata": {
    "execution": {
     "iopub.execute_input": "2024-11-06T09:00:30.838523Z",
     "iopub.status.busy": "2024-11-06T09:00:30.837851Z",
     "iopub.status.idle": "2024-11-06T09:00:30.843573Z",
     "shell.execute_reply": "2024-11-06T09:00:30.842599Z",
     "shell.execute_reply.started": "2024-11-06T09:00:30.838498Z"
    }
   },
   "source": [
    "# Lab 5 - PySpark DataFrames."
   ]
  },
  {
   "cell_type": "markdown",
   "id": "5eea13e6-18cc-425f-aa97-7a9380008eb3",
   "metadata": {
    "execution": {
     "iopub.execute_input": "2024-11-06T09:01:33.284355Z",
     "iopub.status.busy": "2024-11-06T09:01:33.283808Z",
     "iopub.status.idle": "2024-11-06T09:01:33.288379Z",
     "shell.execute_reply": "2024-11-06T09:01:33.287266Z",
     "shell.execute_reply.started": "2024-11-06T09:01:33.284327Z"
    }
   },
   "source": [
    "# 0. Uruchomienie silnika Spark."
   ]
  },
  {
   "cell_type": "code",
   "execution_count": null,
   "id": "b97b77cf-2391-4f51-b98a-9002bc22d597",
   "metadata": {},
   "outputs": [],
   "source": [
    "import os\n",
    "os.environ['SPARK_NAME'] = \"/opt/spark\"\n",
    "# os.environ['PYSPARK_DRIVER_PYTHON'] = 'jupyter'\n",
    "os.environ['PYSPARK_DRIVER_PYTHON_OPTS'] = 'lab'\n",
    "# os.environ['PYSPARK_PYTHON'] = 'python'\n",
    "os.environ['PYSPARK_DRIVER_PYTHON'] = '/opt/spark/work-dir/.venv/bin/python3'\n",
    "os.environ['PYSPARK_PYTHON'] = '/opt/spark/work-dir/.venv/bin/python3'\n",
    "\n",
    "# można też spróbować wykorzystać moduł findspark do automatycznego odnalezienia miejsca instalacji sparka\n",
    "# import findspark\n",
    "# findspark.init()\n",
    "# lub\n",
    "# findspark.init(\"/opt/spark\")"
   ]
  },
  {
   "cell_type": "code",
   "execution_count": null,
   "id": "1b7a59b7-ad6d-43ff-b5dd-2bc48d45bd9b",
   "metadata": {},
   "outputs": [],
   "source": [
    "from pyspark.sql import SparkSession\n",
    "\n",
    "# spark = SparkSession.builder.master(\"spark://spark-master:7077\").appName(\"Create-DataFrame\").getOrCreate()\n",
    "# konfiguracja z określeniem liczby wątków (2) oraz ilości pamięci do wykorzystania poza stertą interpretera Pythona\n",
    "spark = SparkSession\\\n",
    "        .builder\\\n",
    "        .master(\"local[2]\")\\\n",
    "        .appName(\"Create-DataFrame\")\\\n",
    "        .config(\"spark.memory.offHeap.enabled\",\"true\")\\\n",
    "        .config(\"spark.memory.offHeap.size\",\"4g\")\\\n",
    "        .getOrCreate()\n",
    "spark.sparkContext"
   ]
  },
  {
   "cell_type": "code",
   "execution_count": null,
   "id": "7395a6ae-0a2d-441d-aa31-9c865a858554",
   "metadata": {},
   "outputs": [],
   "source": [
    "sc = spark.sparkContext"
   ]
  },
  {
   "cell_type": "markdown",
   "id": "d05f6ad4-573a-4f01-a7e7-123aae9d67e7",
   "metadata": {},
   "source": [
    "# 1. Spark DataFrame."
   ]
  },
  {
   "cell_type": "markdown",
   "id": "defe4562-1c8d-4492-be4d-dc974c5cf97a",
   "metadata": {},
   "source": [
    "> Spark Dataframe API: https://spark.apache.org/docs/3.5.3/api/python/reference/pyspark.sql/api/pyspark.sql.DataFrame.html\n",
    "\n",
    "Zanim przejdziemy do obiektów typu DataFrame warto powiedzieć, że w systemie Spark występuje również tym Dataset, co może prowadzić do używania tych dwóch terminów zamiennie, co byłoby błędem. Obiekty typu Dataset są odrębnym typem i póki co nie są one dostępne w API Pythona dla Sparka, ale można na nich pracować z poziomu API Javy oraz języka Scala.\n",
    "Kilka szczegółów na temat tego typu oraz jego tworzenia z poziomu języka Java lub Scala można znaleźć [tu](https://spark.apache.org/docs/3.5.3/sql-getting-started.html#creating-datasets) oraz [tu](https://spark.apache.org/docs/3.5.3/api/java/index.html).\n",
    "Obiekty typu Dataset w języku Java i Scala są obiektami silnie typowanymi, więc mamy do dyspozycji transfomacje typowane, a w Pythonie są to transformacje nietypowane (z racji natury języka Python).\n",
    "\n",
    "Spark DataFrame to rozproszona kolekcja danych Spark do pracy z danymi ustrukturyzowanymi, która podobna jest do obiektów DataFrame znanych z biblioteki pandas oraz języka R jednak dużo bardziej zoptymalizowana w kontekście pracy w środowisku rozproszonym. \n"
   ]
  },
  {
   "cell_type": "markdown",
   "id": "98a70aaf-6452-4c77-9589-f5ac6def809a",
   "metadata": {},
   "source": [
    "## Pobranie danych i wczytanie do ramki Spark."
   ]
  },
  {
   "cell_type": "code",
   "execution_count": null,
   "id": "bee8f774-9eea-4111-bff1-482f58644e3b",
   "metadata": {},
   "outputs": [],
   "source": [
    "# pobranie spakowanego zbioru za pomocą polecenia systemowego wget\n",
    "# strona datasetu: https://archive.ics.uci.edu/dataset/911/recipe+reviews+and+user+feedback+dataset\n",
    "!wget https://archive.ics.uci.edu/static/public/911/recipe+reviews+and+user+feedback+dataset.zip"
   ]
  },
  {
   "cell_type": "code",
   "execution_count": null,
   "id": "20ebf782-215c-49da-81eb-1265ea547e67",
   "metadata": {},
   "outputs": [],
   "source": [
    "# listujemy zawartość bieżącego folderu\n",
    "!ls"
   ]
  },
  {
   "cell_type": "code",
   "execution_count": null,
   "id": "d49baef0-8049-4c01-b263-b35c4e95883f",
   "metadata": {},
   "outputs": [],
   "source": [
    "# zmiana nazwy pliku - nie jest konieczna, ale trzeba zmienić później ścieżkę w kolejnej komórce notatnika\n",
    "!mv recipe+reviews+and+user+feedback+dataset.zip recipe_reviews.zip"
   ]
  },
  {
   "cell_type": "code",
   "execution_count": null,
   "id": "812e3726-b836-43ba-b68d-3e07f126349a",
   "metadata": {},
   "outputs": [],
   "source": [
    "# wypakowujemy plik do podfolderu data\n",
    "import zipfile\n",
    "with zipfile.ZipFile(\"recipe_reviews.zip\", 'r') as zip_ref:\n",
    "    zip_ref.extractall(\"./data\")"
   ]
  },
  {
   "cell_type": "code",
   "execution_count": null,
   "id": "894baa64-c727-49e0-a4e6-51f4cb602281",
   "metadata": {},
   "outputs": [],
   "source": [
    "!ls ./data"
   ]
  },
  {
   "cell_type": "code",
   "execution_count": null,
   "id": "c2fe79ad-a36f-4cdd-b3e7-3d09d0aa8d06",
   "metadata": {},
   "outputs": [],
   "source": [
    "# sprawdzamy jak wyglądają 3 pierwsze linie pliku, widać, że pierwsza zawiera nagłówki kolumn a dane są oddzielone przecinkiem\n",
    "!head -3 \"data/Recipe Reviews and User Feedback Dataset.csv\""
   ]
  },
  {
   "cell_type": "code",
   "execution_count": null,
   "id": "972c4ffe-008e-49ce-98e7-7895b6dcfc19",
   "metadata": {},
   "outputs": [],
   "source": [
    "df_reviews = spark.read.csv('./data/Recipe Reviews and User Feedback Dataset.csv', header=True, sep=\",\")"
   ]
  },
  {
   "cell_type": "markdown",
   "id": "ad7293cf-7cde-457c-8447-fd3baecffe15",
   "metadata": {},
   "source": [
    "## Wyświetlenie danych oraz schematu"
   ]
  },
  {
   "cell_type": "code",
   "execution_count": null,
   "id": "951bf79d-c58e-4f53-8364-b365d4ab729e",
   "metadata": {},
   "outputs": [],
   "source": [
    "# najpopularniejsza metoda ich pobrania to show(), ale jest ich więcej\n",
    "df_reviews.show(5)"
   ]
  },
  {
   "cell_type": "code",
   "execution_count": null,
   "id": "537f476f-789c-49ae-b0fc-9ba8dbde22bb",
   "metadata": {},
   "outputs": [],
   "source": [
    "# rzut oka na schemę tego DataFrame\n",
    "df_reviews.printSchema()"
   ]
  },
  {
   "cell_type": "code",
   "execution_count": null,
   "id": "2bd6f927-53e5-4d69-b852-69156e29d610",
   "metadata": {},
   "outputs": [],
   "source": [
    "# widać, że wszystkie kolumny są typu string, to jest domyślny sposób wczytywania danych przez spark z plain text\n",
    "# możemy jednak przekazać dodatkowy parametr, który na podstawie próbki danych spróbuje dobrać typ danych odpowiedni dla kolumny\n",
    "df_reviews = spark.read.csv('./data/Recipe Reviews and User Feedback Dataset.csv', header=True, sep=\",\", inferSchema=True)"
   ]
  },
  {
   "cell_type": "code",
   "execution_count": null,
   "id": "ae798ec2-2892-4667-8cad-022013cd517d",
   "metadata": {},
   "outputs": [],
   "source": [
    "# po wypisaniu schemy widać zmianę\n",
    "df_reviews.printSchema()"
   ]
  },
  {
   "cell_type": "markdown",
   "id": "0472be25-b43e-4758-85f8-b6f46225d957",
   "metadata": {},
   "source": [
    "> Listę dostępnych typów danych znajdziesz tu: https://spark.apache.org/docs/latest/api/python/reference/pyspark.sql/data_types.html"
   ]
  },
  {
   "cell_type": "code",
   "execution_count": null,
   "id": "1c7dc0cb-9964-47cc-9529-8d03d9db5383",
   "metadata": {},
   "outputs": [],
   "source": [
    "# ramkę możemy również inicjalizować wskazując pożądane typy danych\n",
    "from pyspark.sql.types import StructType, StructField, StringType, IntegerType, DecimalType, LongType\n",
    "\n",
    "data = [(\"James\",\"\",\"Smith\",36636,\"M\",3000),\n",
    "    (\"Michael\",\"Rose\",\"\",40288,\"M\",4000),\n",
    "    (\"Robert\",\"\",\"Williams\",42114,\"M\",4000),\n",
    "    (\"Maria\",\"Anne\",\"Jones\",39192,\"F\",4000),\n",
    "    (\"Jen\",\"Mary\",\"Brown\",\"\",\"F\",1000)\n",
    "  ]\n",
    "\n",
    "schema = StructType([ \\\n",
    "    StructField(\"firstname\", StringType(), True), \\\n",
    "    StructField(\"user_id\", StringType(), True), \\\n",
    "    StructField(\"lastname\", StringType(), True), \\\n",
    "    StructField(\"id\", StringType(), True), \\\n",
    "    # błąd konwersji \"\" na int!\n",
    "    # StructField(\"id\", LongType(), True), \\\n",
    "    StructField(\"gender\", StringType(), True), \\\n",
    "    StructField(\"salary\", StringType(), True)\n",
    "    # chcielibyśmy tak, ale tutaj nie da się za bardzo - błąd konwersji int na decimal!\n",
    "    # StructField(\"salary\", DecimalType(10,2), True) \\\n",
    "  ])\n",
    "\n",
    "df_test = spark.createDataFrame(data=data,schema=schema)\n",
    "df_test.printSchema()"
   ]
  },
  {
   "cell_type": "code",
   "execution_count": null,
   "id": "84bbe3b5-7962-4c3a-b1d7-1df7f302148c",
   "metadata": {},
   "outputs": [],
   "source": [
    "# możemy wykonać rzutowanie po wczytaniu danych z większością kolumn typu tekstowego\n",
    "import pyspark.sql.functions as F\n",
    "\n",
    "df_test = df_test.withColumn(\"salary\", F.col(\"salary\").cast(\"decimal(10,2)\"))\n",
    "df_test.printSchema()"
   ]
  },
  {
   "cell_type": "code",
   "execution_count": null,
   "id": "14479957-ba49-4365-baf7-501e1ec46f50",
   "metadata": {},
   "outputs": [],
   "source": [
    "df_test.select(df_test.salary).show()"
   ]
  },
  {
   "cell_type": "code",
   "execution_count": null,
   "id": "98056a8a-8ad3-461e-ba71-7308a01cfd92",
   "metadata": {},
   "outputs": [],
   "source": [
    "# ile wierszy w ramce?\n",
    "df_reviews.count()"
   ]
  },
  {
   "cell_type": "code",
   "execution_count": null,
   "id": "de6ae448-7944-473f-9a26-8d3eb0602712",
   "metadata": {},
   "outputs": [],
   "source": [
    "# DataFrame składa się z obiektów typu Column dla każdej kolumny\n",
    "# API dla typu Column: https://spark.apache.org/docs/3.5.3/api/python/reference/pyspark.sql/api/pyspark.sql.Column.html\n",
    "\n",
    "# do kolumn możemy się odwoływać tak jak w pandas API, ale wynik jest inny\n",
    "df_reviews.user_name, df_reviews['user_name']"
   ]
  },
  {
   "cell_type": "code",
   "execution_count": null,
   "id": "a77416a1-5da4-44ce-9e75-087178da9940",
   "metadata": {},
   "outputs": [],
   "source": [
    "# aby wyświetlić dane musimy wywoałać funkcję select na obiekcie dataframe\n",
    "\n",
    "df_reviews.select(df_reviews.user_name).show(5)"
   ]
  },
  {
   "cell_type": "code",
   "execution_count": null,
   "id": "7cf3e7df-d636-4f63-9b53-2a2d11d8cad6",
   "metadata": {},
   "outputs": [],
   "source": [
    "# do funkcji select możemy przekazać wiele kolumn a wywołania podobnie jak dla RDD są leniwe\n",
    "print(df_reviews.select(df_reviews.user_name, df_reviews.user_reputation))\n",
    "# musimy więc wywołać funkcję, której wykonanie \"zmusi\" Sparka do wyliczenia jej wartości lub jawnie wywołać np. show\n",
    "df_reviews.select(df_reviews.user_name, df_reviews.user_reputation).show(5)"
   ]
  },
  {
   "cell_type": "code",
   "execution_count": null,
   "id": "d05d300f-a5cb-4055-8c0a-b526d57b1214",
   "metadata": {},
   "outputs": [],
   "source": [
    "# można zmienić to domyślne zachowanie Spark, ale zazwyczaj nie jest to dobry pomysł, chyba, że zbiór jest mały\n",
    "# zmieniamy to poprzez edycję poniższego parametru\n",
    "# spark.conf.set('spark.sql.repl.eagerEval.enabled', True)"
   ]
  },
  {
   "cell_type": "code",
   "execution_count": null,
   "id": "2ebd49bd-3d35-4057-bf31-4e204fffc0e6",
   "metadata": {},
   "outputs": [],
   "source": [
    "# lub indeksując kolumny innym sposobem\n",
    "df_reviews.select(df_reviews['user_name'],df_reviews['user_reputation']).show(5)"
   ]
  },
  {
   "cell_type": "code",
   "execution_count": null,
   "id": "d36ae0b8-025c-4ef6-af7c-c9dd79440fdc",
   "metadata": {},
   "outputs": [],
   "source": [
    "from pyspark.sql.functions import isnan, when, count, col\n",
    "\n",
    "# policzymy teraz liczbę wartości NULL w każdej kolumnie\n",
    "df_reviews.select([count(when(isnan(c) | col(c).isNull(), c)).alias(c) for c in df_reviews.columns]).show()"
   ]
  },
  {
   "cell_type": "markdown",
   "id": "15258db5-e451-4fb3-a011-e5b60e10a222",
   "metadata": {},
   "source": [
    "## Filtrowanie danych"
   ]
  },
  {
   "cell_type": "code",
   "execution_count": null,
   "id": "da562ec4-8bd2-409e-86f8-a217f3339403",
   "metadata": {},
   "outputs": [],
   "source": [
    "# rzućmy okiem na kilka wierszy gdzie w kolumnie recipe_name jest wartość NULL\n",
    "df_reviews.filter(df_reviews.recipe_code.isNull()).show()"
   ]
  },
  {
   "cell_type": "code",
   "execution_count": null,
   "id": "660092ce-6e2d-4c93-bd98-bae96edd9dae",
   "metadata": {},
   "outputs": [],
   "source": [
    "# zapisanie do nowej ramki danych bez wartości pustych\n",
    "df_reviews_clean = df_reviews.na.drop()\n",
    "df_reviews_clean.count()"
   ]
  },
  {
   "cell_type": "code",
   "execution_count": null,
   "id": "1063f8da-8ae4-4796-ad3d-47f04b9a8e3c",
   "metadata": {},
   "outputs": [],
   "source": [
    "# dla pewności możemy to sprawdzić raz jeszcze\n",
    "df_reviews_clean.select([count(when(isnan(c) | col(c).isNull(), c)).alias(c) for c in df_reviews_clean.columns]).show()"
   ]
  },
  {
   "cell_type": "code",
   "execution_count": null,
   "id": "af647544-8fcf-40bc-9464-c2ec573a682f",
   "metadata": {},
   "outputs": [],
   "source": [
    "# filtrowanie danych z ramki\n",
    "df_reviews_clean.filter(df_reviews.user_name.startswith('a')).select(df_reviews_clean.user_name).show(10)\n",
    "df_reviews_clean.filter(df_reviews.stars == 5).show(10)"
   ]
  },
  {
   "cell_type": "code",
   "execution_count": null,
   "id": "d058877d-bc86-43bb-828c-a2067f8b191d",
   "metadata": {},
   "outputs": [],
   "source": [
    "from pyspark.sql.functions import avg\n",
    "\n",
    "# wyliczenie średniej wartości z kolumny\n",
    "df_reviews_clean.select(avg(df_reviews_clean.thumbs_up)).show()"
   ]
  },
  {
   "cell_type": "code",
   "execution_count": null,
   "id": "f19474fc-3c64-4b80-b85b-25cd0879f0a2",
   "metadata": {},
   "outputs": [],
   "source": [
    "# ale możemy się dowiedzieć tego i więcej w sposób podobny do tego z biblioteki pandas\n",
    "df_reviews_clean.select(df_reviews_clean.thumbs_up).describe().show()"
   ]
  },
  {
   "cell_type": "code",
   "execution_count": null,
   "id": "ed730dd2-e1a2-4c0e-9adb-f273464db12e",
   "metadata": {},
   "outputs": [],
   "source": [
    "from pyspark.sql.functions import desc\n",
    "\n",
    "df_reviews_clean.groupby('recipe_code').agg({'thumbs_down': 'sum'}).sort(desc('sum(thumbs_down)')).show(10)"
   ]
  },
  {
   "cell_type": "markdown",
   "id": "76624c52-6f6b-4244-a3bc-fe7394754207",
   "metadata": {},
   "source": [
    "Dla potrzeb laboratorium została stworzona funkcja, która pozwoli na generowanie datasetu i zapisane go w pliku csv na początek, aby zaprezentować podstawowe typy danych Sparka."
   ]
  },
  {
   "cell_type": "code",
   "execution_count": null,
   "id": "00fa6c72-6675-498a-a3d0-ff32d8eb89db",
   "metadata": {},
   "outputs": [],
   "source": [
    "# deklaracja zbiorów wartości dla poszczególnych kolumn przyszłego zbioru danych\n",
    "header = ['id', 'firstname', 'lastname', 'age', 'salary']\n",
    "firstnames = ['Adam', 'Katarzyna', 'Krzysztof', 'Marek', 'Aleksandra', 'Zbigniew', 'Wojciech', 'Mieczysław', 'Agata', 'Wisława']\n",
    "lastnames = ['Mieczykowski', 'Kowalski', 'Malinowski' , 'Szczaw', 'Glut', 'Barański', 'Brzęczyszczykiewicz', 'Wróblewski', 'Wlotka', 'Pysla']\n",
    "age = {'min': 18, 'max': 68}\n",
    "salary = {'min': 3200, 'max': 12500}"
   ]
  },
  {
   "cell_type": "code",
   "execution_count": null,
   "id": "27f9c979-abb6-48a1-8dfa-8a9efcbbd8a9",
   "metadata": {},
   "outputs": [],
   "source": [
    "# funkcja do generowania fikcyjnego datasetu\n",
    "# n_rows oznacza ilość wierszy, którą chcemy finalnie uzyskać\n",
    "\n",
    "\n",
    "import random\n",
    "from tqdm import tqdm\n",
    "\n",
    "def build_dataset(filename, n_rows=100, chunk_size=100000):\n",
    "    rows = []\n",
    "    rows.append(header)\n",
    "    mu = (salary['max'] + salary['min']) / 2\n",
    "    sigma = 1000\n",
    "\n",
    "    with open(filename, 'w', encoding='utf-8') as filehandler:\n",
    "        \n",
    "        for id in tqdm(range(1, n_rows + 1), total=n_rows, desc=\"Building dataset...\"):\n",
    "            row = [\n",
    "                f'{id}', \n",
    "                f'{random.choice(firstnames)}', \n",
    "                f'{random.choice(lastnames)}', \n",
    "                f\"{random.randint(age['min'], age['max'])}\",\n",
    "                f\"{round(float(random.normalvariate(mu=mu, sigma=sigma)), 2)}\"\n",
    "            ]\n",
    "            rows.append(row)\n",
    "            if id % chunk_size == 0:\n",
    "                filehandler.writelines([f\"{','.join(row)}\\n\" for row in rows])\n",
    "                rows = []\n"
   ]
  },
  {
   "cell_type": "code",
   "execution_count": null,
   "id": "91806375-7c41-4073-8b95-200f02daca81",
   "metadata": {},
   "outputs": [],
   "source": [
    "# około 715MB zostanie zapisanych w pliku csv, dostosuj ilość rekordów do swoich potrzeb\n",
    "build_dataset('employee.csv', 20_000_000)"
   ]
  },
  {
   "cell_type": "code",
   "execution_count": null,
   "id": "c0e20456-ca25-4873-91ed-799d93bc3c3f",
   "metadata": {},
   "outputs": [],
   "source": [
    "%%time\n",
    "# więcej magicznych metod w Jupyter Notebooku: https://ipython.readthedocs.io/en/stable/interactive/magics.html\n",
    "# wczytanie pliku csv przez spark\n",
    "# df = spark.read.csv('employee.csv', header=True)\n",
    "df = spark.read.csv('employee.csv', header=True, inferSchema=True)"
   ]
  },
  {
   "cell_type": "code",
   "execution_count": null,
   "id": "44c2899b-4203-491b-9e23-fd334ff69054",
   "metadata": {},
   "outputs": [],
   "source": [
    "type(df)"
   ]
  },
  {
   "cell_type": "code",
   "execution_count": null,
   "id": "2467420b-a44f-44bc-be5f-d0d92343d20b",
   "metadata": {},
   "outputs": [],
   "source": [
    "%%time\n",
    "# wypisujemy schemat i 10 pierwszych wierszy utworzonego obiektu Spark DataFrame\n",
    "df.printSchema()\n",
    "df.show(10)"
   ]
  },
  {
   "cell_type": "code",
   "execution_count": null,
   "id": "085a27ef-3e27-47c4-babd-a1c8a5051989",
   "metadata": {},
   "outputs": [],
   "source": [
    "# przykład wykorzystania funkcji transform, która mapuje wykonanie stworzonej funkcji tu_upper_str_columns na istniejącą kolumnę\n",
    "# i zwraca nową ramkę z dodatkową kolumną\n",
    "from pyspark.sql.functions import upper\n",
    "\n",
    "def to_upper_str_columns(df, column_name, new_column_name):\n",
    "    return df.withColumn(new_column_name, upper(df[column_name]))\n",
    "\n",
    "df = df.transform(to_upper_str_columns, \"firstname\", \"firstname_upper\")"
   ]
  },
  {
   "cell_type": "code",
   "execution_count": null,
   "id": "999e4f38-face-4446-a546-6c780dd1efc9",
   "metadata": {},
   "outputs": [],
   "source": [
    "df.show(10)"
   ]
  },
  {
   "cell_type": "code",
   "execution_count": null,
   "id": "25d71630-d5eb-4582-b5cf-e3b6e592262f",
   "metadata": {},
   "outputs": [],
   "source": [
    "# filtrowanie numeryczne, ale tu na kolumnie typu str - czy jest poprawne?\n",
    "df.filter(df[\"salary\"] > 10000).count()"
   ]
  },
  {
   "cell_type": "code",
   "execution_count": null,
   "id": "44f43015-b102-4456-9f79-7c584196859d",
   "metadata": {},
   "outputs": [],
   "source": [
    "# na ile partycji została nasza ramka danych rozrzucona po \"klastrze\"?\n",
    "df.rdd.getNumPartitions()"
   ]
  },
  {
   "cell_type": "code",
   "execution_count": null,
   "id": "b29a9b96-b9b0-4177-8964-941eaa261eb4",
   "metadata": {},
   "outputs": [],
   "source": [
    "%%time\n",
    "# mierzymy czas operacji przy domyślnej liczbie partycji\n",
    "df.filter(df[\"salary\"] > 10000).count()"
   ]
  },
  {
   "cell_type": "code",
   "execution_count": null,
   "id": "09b8b448-2543-4b41-a6e9-632dab529677",
   "metadata": {},
   "outputs": [],
   "source": [
    "df = df.repartition(12)"
   ]
  },
  {
   "cell_type": "code",
   "execution_count": null,
   "id": "5677ad82-4cdc-4aee-a364-53da0d99d222",
   "metadata": {},
   "outputs": [],
   "source": [
    "df.rdd.getNumPartitions()"
   ]
  },
  {
   "cell_type": "code",
   "execution_count": null,
   "id": "4080009e-ea3a-4eab-a56b-f90f6ce3b694",
   "metadata": {},
   "outputs": [],
   "source": [
    "%%time\n",
    "# mierzymy czas operacji przy 12 partycjach dla 20_000_000 rekordów\n",
    "df.filter(df[\"salary\"] > 10000).count()"
   ]
  },
  {
   "cell_type": "code",
   "execution_count": null,
   "id": "bbadd267-60ff-4e0e-94db-f189e54d7d73",
   "metadata": {},
   "outputs": [],
   "source": [
    "# macierz częstości dla dwóch kolumn - uwaga dla bardzo różnorodnych danych!\n",
    "df.crosstab(\"firstname\", \"age\").sort(\"firstname_age\").show()"
   ]
  },
  {
   "cell_type": "code",
   "execution_count": null,
   "id": "f9d91cca-51b1-4e43-9ed5-d934719e1363",
   "metadata": {},
   "outputs": [],
   "source": [
    "# funkcja explain może przydać się w przypadku bardziej zaawansowanego debuggingu, optymalizacji i zrozumienia\n",
    "# kolejności działania niektórych elementów silnika Spark\n",
    "query = df.filter(df.firstname.contains('ski'))\n",
    "query.explain(mode='formatted')"
   ]
  },
  {
   "cell_type": "code",
   "execution_count": null,
   "id": "f3fd774b-c82c-4f47-8d4f-ecdc20f7b1f2",
   "metadata": {},
   "outputs": [],
   "source": [
    "# zapisujemy ramkę do plików parquet\n",
    "# zwróć uwagę na liczbę utworzonych plików\n",
    "\n",
    "df.write.parquet('./data/parquet/')"
   ]
  },
  {
   "cell_type": "code",
   "execution_count": null,
   "id": "8d26cbd4-f24a-4f08-b99c-cfce31f7b9a6",
   "metadata": {},
   "outputs": [],
   "source": [
    "# lub chcąc nadpisać już istniejące dane - w trybie overwrite\n",
    "df.write.mode(\"overwrite\").parquet('./data/parquet/')"
   ]
  },
  {
   "cell_type": "code",
   "execution_count": null,
   "id": "9c686a98-e41d-4d67-8a33-840315a0903c",
   "metadata": {},
   "outputs": [],
   "source": [
    "sc.stop()"
   ]
  },
  {
   "cell_type": "markdown",
   "id": "113c9de6-9853-447b-8cbb-73bd9c42a50c",
   "metadata": {},
   "source": [
    "### Zadania"
   ]
  },
  {
   "cell_type": "markdown",
   "id": "8f488442-a201-4e96-8b2b-ad4b49a15f36",
   "metadata": {},
   "source": [
    "**Zadanie 1**  \n",
    "Na zbiorze danych '_Recipe Reviews ..._' wykonaj:  \n",
    "1.1  Zmień nazwę pierwszej kolumny z `_c0` na `id`.  \n",
    "1.2  Wyświetl 10 najwyższych wartości w kolumnie `reply_count`.  \n",
    "1.3  Wyświetl 10 najwyższych sum wartości w kolumnie `best_score` dla każdego przepisu (grupowanie).  \n",
    "1.4  Które 10 przepisów miało najwięcej komentarzy?  \n",
    "1.5  Wyświetl rozkład wartości w kolumnie `stars`.  \n"
   ]
  },
  {
   "cell_type": "markdown",
   "id": "bc20e89b-1ef9-48ae-ab6a-5ecf0876c042",
   "metadata": {},
   "source": [
    "**Zadanie 2**  \n",
    "Wczytaj zbiór danych `employee` nakazując Sparkowi wywnioskowanie bardziej optymalnych typów danych niż domyślny typ `string`."
   ]
  },
  {
   "cell_type": "markdown",
   "id": "f683ee90-6493-4244-b004-cae1d1fb9121",
   "metadata": {},
   "source": [
    "**Zadanie 3**  \n",
    "Jaki jest czas wykonania operacji `df.filter(df[\"salary\"] > 10000).count()` tym razem przy numerycznym typie kolumny `salary`? Jest jakaś różnica?"
   ]
  },
  {
   "cell_type": "markdown",
   "id": "63881899-1e19-4376-94cf-e0701d11b7f4",
   "metadata": {},
   "source": [
    "**Zadanie 4**  \n",
    "Wykorzystując przykład z dokumentacji klasy `Bucketizer` (https://spark.apache.org/docs/latest/api/python/reference/api/pyspark.ml.feature.Bucketizer.html) podziel dane w kolumnie `age` zbioru `employee` na buckety co 10 lat (10-19, 20-29, ..., 60-69) i wyświetl te dane dla 20 pierwszych wierzy w formie surowej oraz całość grupując po bucketach i licząc ile osób znalazło się w każdym z nich."
   ]
  }
 ],
 "metadata": {
  "kernelspec": {
   "display_name": "Python 3 (ipykernel)",
   "language": "python",
   "name": "python3"
  },
  "language_info": {
   "codemirror_mode": {
    "name": "ipython",
    "version": 3
   },
   "file_extension": ".py",
   "mimetype": "text/x-python",
   "name": "python",
   "nbconvert_exporter": "python",
   "pygments_lexer": "ipython3",
   "version": "3.10.12"
  }
 },
 "nbformat": 4,
 "nbformat_minor": 5
}
